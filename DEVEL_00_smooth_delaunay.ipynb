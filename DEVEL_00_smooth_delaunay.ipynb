{
 "cells": [
  {
   "cell_type": "markdown",
   "metadata": {},
   "source": [
    "### Stochastic DTFE implementation in python"
   ]
  },
  {
   "cell_type": "code",
   "execution_count": 1,
   "metadata": {},
   "outputs": [],
   "source": [
    "from pyhull.delaunay import DelaunayTri\n",
    "import matplotlib.pyplot as plt\n",
    "import numpy as np\n",
    "\n",
    "from IPython.display import clear_output"
   ]
  },
  {
   "cell_type": "code",
   "execution_count": 2,
   "metadata": {},
   "outputs": [],
   "source": [
    "#-----------------------------------------------------\n",
    "# https://stackoverflow.com/questions/25179693/how-to-check-whether-the-point-is-in-the-tetrahedron-or-not\n",
    "#-----------------------------------------------------\n",
    "def sameside(v1,v2,v3,v4,p):\n",
    "    normal = np.cross(v2-v1, v3-v1)\n",
    "    dot1 = np.dot(normal, v4-v1)\n",
    "    dot2 = np.dot(normal, p-v1)\n",
    "    return (dot1 * dot2)  > 0\n",
    "\n",
    "def tetraCoord(A,B,C,D):\n",
    "    v1 = B-A ; v2 = C-A ; v3 = D-A\n",
    "    # mat defines an affine transform from the tetrahedron to the orthogonal system\n",
    "    mat = np.concatenate((np.array((v1,v2,v3,A)).T, np.array([[0,0,0,1]])))\n",
    "    # The inverse matrix does the opposite (from orthogonal to tetrahedron)\n",
    "    M1 = np.linalg.inv(mat)\n",
    "    return (M1)\n",
    "\n",
    "def pointInsideT(v1,v2,v3,v4,p):\n",
    "    # Find the transform matrix from orthogonal to tetrahedron system\n",
    "    M1=tetraCoord(v1,v2,v3,v4)\n",
    "    # apply the transform to P\n",
    "    p1 = np.append(p,1)\n",
    "    newp = M1.dot(p1)\n",
    "    # perform test\n",
    "    return (np.all(newp>=0) and np.all(newp <=1) and sameside(v2,v3,v4,v1,p))"
   ]
  },
  {
   "cell_type": "code",
   "execution_count": 3,
   "metadata": {},
   "outputs": [],
   "source": [
    "#-----------------------------------------------------\n",
    "#\n",
    "#-----------------------------------------------------\n",
    "def tetra_volume(_a,_b,_c,_d):\n",
    "    v1 = _b-_a\n",
    "    v2 = _c-_a\n",
    "    v3 = _d-_a\n",
    "    \n",
    "    return np.abs(( v1[:,0]*v2[:,1]*v3[:,2] + v1[:,1]*v2[:,2]*v3[:,0] + v1[:,2]*v2[:,0]*v3[:,1] - \n",
    "                   (v1[:,2]*v2[:,1]*v3[:,0] + v1[:,1]*v2[:,0]*v3[:,2] + v1[:,0]*v2[:,2]*v3[:,1]) ))/6.0"
   ]
  },
  {
   "cell_type": "code",
   "execution_count": 4,
   "metadata": {},
   "outputs": [],
   "source": [
    "#-----------------------------------------------------\n",
    "#\n",
    "#-----------------------------------------------------\n",
    "def adjacent_volumes(_xyz, _verts):\n",
    "\n",
    "    #--- Compute volumes for all tetrahedron\n",
    "    a = _xyz[_verts[:,0],:]\n",
    "    b = _xyz[_verts[:,1],:]\n",
    "    c = _xyz[_verts[:,2],:]\n",
    "    d = _xyz[_verts[:,3],:] \n",
    "    tetra_volumes = tetra_volume(a,b,c,d)\n",
    "    \n",
    "    #--- Array to store adjacent volumes to each vertex\n",
    "    adj_volumes = np.zeros(_xyz.shape[0])\n",
    "    \n",
    "    #--- Iterate over the volumes corresponding to the vertices array\n",
    "    for i, tet_i in enumerate(_verts):\n",
    "        #--- Iterate over the vertices in this tetrahedron and add its adjacent volume\n",
    "        for ver_j in tet_i:\n",
    "            adj_volumes[ver_j] = adj_volumes[ver_j] + tetra_volumes[i]\n",
    "        \n",
    "    return adj_volumes"
   ]
  },
  {
   "cell_type": "code",
   "execution_count": 5,
   "metadata": {},
   "outputs": [],
   "source": [
    "#-----------------------------------------------------\n",
    "#\n",
    "#-----------------------------------------------------\n",
    "def write_to_file(_filename, _xyz, _den, _tri):\n",
    "    \n",
    "    f = open(_filename, 'w')\n",
    "    f.write(\"{}\\n\".format(len(_den)))\n",
    "    for i in range(len(_den)):\n",
    "        ##f.write('{:11.4f},{:11.4f},{:11.4f},{:11.4f}\\n'.format(_xyz[i,0], _xyz[i,1], _xyz[i,2], _den[i]))\n",
    "        f.write('{},{},{},{}\\n'.format(_xyz[i,0], _xyz[i,1], _xyz[i,2], _den[i]))\n",
    "        \n",
    "    f.write(\"{}\\n\".format(len(_tri)))\n",
    "    for item in _tri:\n",
    "        f.write('{},{},{}\\n'.format(item[0], item[1], item[2]))\n",
    "\n",
    "    f.close()"
   ]
  },
  {
   "cell_type": "code",
   "execution_count": 6,
   "metadata": {},
   "outputs": [],
   "source": [
    "#-----------------------------------------------------\n",
    "#\n",
    "#-----------------------------------------------------\n",
    "def get_adjacent_voronoi(_xyz, _tetra):\n",
    "    \n",
    "    #--- Create empty list of lists\n",
    "    adj_voro      = []\n",
    "    for i in range(_xyz.shape[0]):\n",
    "        adj_voro.append([])\n",
    "    \n",
    "    #--- Iterate over tetrahedra and assign each to its points\n",
    "    for i, tet_i in enumerate(_tetra):\n",
    "\n",
    "        #--- assign this tetrahedron to its vertices\n",
    "        for j in range(4):        \n",
    "            adj_voro[tet_i[j]].append(i)\n",
    "    \n",
    "    return adj_voro"
   ]
  },
  {
   "cell_type": "code",
   "execution_count": 7,
   "metadata": {},
   "outputs": [],
   "source": [
    "#-----------------------------------------------------\n",
    "#\n",
    "#-----------------------------------------------------\n",
    "def get_adjacent_voronoi_stats(_xyz, _tetra, _adj_voro):\n",
    "    \n",
    "    xt = np.zeros((2,len(_adj_voro)), dtype=np.float32)\n",
    "    yt = np.zeros((2,len(_adj_voro)), dtype=np.float32)\n",
    "    zt = np.zeros((2,len(_adj_voro)), dtype=np.float32)\n",
    "    \n",
    "    #--- Iterate over Voronoi cells\n",
    "    for i, adj_i in enumerate(_adj_voro):\n",
    "        \n",
    "        xi = []\n",
    "        yi = []\n",
    "        zi = []\n",
    "        #--- For this Voronoi cell iterate over its tetrahedra, tet_i is the index\n",
    "        for tet_j in adj_i:\n",
    "            \n",
    "            #--- Retrieve this tetrahedron:\n",
    "            tet_j = _tetra[tet_j,:]\n",
    "\n",
    "            #--- These are the coordinates of the tetrahedron's vertices\n",
    "            xi.extend(_xyz[tet_j,0])\n",
    "            yi.extend(_xyz[tet_j,1])\n",
    "            zi.extend(_xyz[tet_j,2])\n",
    "        \n",
    "        if len(xi) == 0:\n",
    "            print(\">>> ERROR \", i, adj_i)\n",
    "            continue\n",
    "    \n",
    "        xt[0,i] = np.min(xi)\n",
    "        xt[1,i] = np.max(xi)\n",
    "        yt[0,i] = np.min(yi)\n",
    "        yt[1,i] = np.max(yi)\n",
    "        zt[0,i] = np.min(zi)\n",
    "        zt[1,i] = np.max(zi)\n",
    "\n",
    "    return [xt,yt,zt]"
   ]
  },
  {
   "cell_type": "code",
   "execution_count": 8,
   "metadata": {},
   "outputs": [],
   "source": [
    "#-----------------------------------------------------\n",
    "# _adj is a list with the adjacent tetrahedra for a given point\n",
    "#-----------------------------------------------------\n",
    "def plot_adjacent_voronoi(_xyz, _tetra, _adj):\n",
    "\n",
    "    \n",
    "    plt.xlim([0,2000])\n",
    "    plt.ylim([0,2000])\n",
    "    #--- Iterate over adjacent voronoi cell\n",
    "    for adj_i in _adj:\n",
    "        \n",
    "        #--- Retrieve this tetrahedron:\n",
    "        tetra_i = _tetra[adj_i,:]\n",
    "\n",
    "        #--- These are the coordinates of the tetrahedron's vertices\n",
    "        xi = _xyz[tetra_i,0]\n",
    "        yi = _xyz[tetra_i,1]\n",
    "        zi = _xyz[tetra_i,2]\n",
    "                \n",
    "        #--- Points\n",
    "        plt.scatter(xi,yi)\n",
    "        #--- Lines\n",
    "        plt.plot([xi[0],xi[1]],[yi[0],yi[1]])\n",
    "        plt.plot([xi[0],xi[2]],[yi[0],yi[2]])\n",
    "        plt.plot([xi[0],xi[3]],[yi[0],yi[3]])\n",
    "        plt.plot([xi[1],xi[2]],[yi[1],yi[2]])\n",
    "        plt.plot([xi[1],xi[3]],[yi[1],yi[3]])\n",
    "        plt.plot([xi[2],xi[3]],[yi[2],yi[3]])\n",
    " \n",
    "        #--- Points\n",
    "        plt.scatter(xi,zi)\n",
    "        #--- Lines\n",
    "        plt.plot([xi[0],xi[1]],[zi[0],zi[1]])\n",
    "        plt.plot([xi[0],xi[2]],[zi[0],zi[2]])\n",
    "        plt.plot([xi[0],xi[3]],[zi[0],zi[3]])\n",
    "        plt.plot([xi[1],xi[2]],[zi[1],zi[2]])\n",
    "        plt.plot([xi[1],xi[3]],[zi[1],zi[3]])\n",
    "        plt.plot([xi[2],xi[3]],[zi[2],zi[3]])\n",
    " \n",
    "\n",
    "    plt.show()"
   ]
  },
  {
   "cell_type": "code",
   "execution_count": 9,
   "metadata": {},
   "outputs": [],
   "source": [
    "#-----------------------------------------------------\n",
    "#\n",
    "#-----------------------------------------------------\n",
    "def is_in_adjacent_voronoi(_xyz, _tetra, _adj, _p):\n",
    "\n",
    "    is_inside = 0\n",
    "    \n",
    "    #--- Iterate over adjacent voronoi cell\n",
    "    for adj_i in _adj:\n",
    "        \n",
    "        #--- Retrieve this tetrahedron:\n",
    "        tetra_i = _tetra[adj_i,:]\n",
    "\n",
    "        #--- These are the coordinates of the tetrahedron's vertices\n",
    "        xi = _xyz[tetra_i,0]\n",
    "        yi = _xyz[tetra_i,1]\n",
    "        zi = _xyz[tetra_i,2]\n",
    "\n",
    "        v1 = np.asarray([xi[0], yi[0], zi[0]],dtype=np.float32)\n",
    "        v2 = np.asarray([xi[1], yi[1], zi[1]],dtype=np.float32)\n",
    "        v3 = np.asarray([xi[2], yi[2], zi[2]],dtype=np.float32)\n",
    "        v4 = np.asarray([xi[3], yi[3], zi[3]],dtype=np.float32)\n",
    "        \n",
    "        if (pointInsideT(v1,v2,v3,v4, _p) == True):\n",
    "            is_inside = 1\n",
    "    \n",
    "    return is_inside"
   ]
  },
  {
   "cell_type": "code",
   "execution_count": 10,
   "metadata": {},
   "outputs": [],
   "source": [
    "def add_random_point_uniform(_xyz, _tet, _adj_voro, _adj_voro_box):\n",
    "    \n",
    "    xyz_new = _xyz.copy()\n",
    "    \n",
    "    n = _xyz.shape[0]\n",
    "    #--- Loop over points\n",
    "    for i, xyz_i in enumerate(_xyz):\n",
    "        \n",
    "        if (xyz_i[0] < 250 or xyz_i[0] > 1750): continue\n",
    "        if (xyz_i[1] < 250 or xyz_i[1] > 1750): continue\n",
    "        if (xyz_i[2] < 250 or xyz_i[2] > 1750): continue\n",
    "        \n",
    "        #--- Bounding box\n",
    "        xb = _adj_voro_box[0][:,i]\n",
    "        yb = _adj_voro_box[1][:,i]\n",
    "        zb = _adj_voro_box[2][:,i]\n",
    "                \n",
    "        #--- Loop until a point inside the adjacent voronoi cell is found\n",
    "        while(1):\n",
    "            \n",
    "            #--- Propose random point\n",
    "            xr = np.random.uniform(xb[0], xb[1])\n",
    "            yr = np.random.uniform(yb[0], yb[1])\n",
    "            zr = np.random.uniform(zb[0], zb[1])\n",
    "            \n",
    "            p_i = np.asarray([xr,yr,zr])\n",
    "            \n",
    "            #--- Check if point lies inside adjacent Voronoi cell\n",
    "            ins = is_in_adjacent_voronoi(_xyz, _tet, _adj_voro[i], p_i)\n",
    "            \n",
    "            if (ins == 1): \n",
    "                xyz_new[i,:] = p_i\n",
    "                break\n",
    "    \n",
    "    return xyz_new"
   ]
  },
  {
   "cell_type": "code",
   "execution_count": 11,
   "metadata": {},
   "outputs": [],
   "source": [
    "def add_random_point_normal(_xyz, _tet, _adj_voro, _adj_voro_vol, _gauss_scale=1):\n",
    "    \n",
    "    xyz_new = _xyz.copy()\n",
    "    \n",
    "    cnt1 = 3.0/(4.0*np.pi)\n",
    "    cnt2 = 1.0/3.0\n",
    "    \n",
    "    n = _xyz.shape[0]\n",
    "    #--- Loop over points\n",
    "    for i, xyz_i in enumerate(_xyz):\n",
    "        \n",
    "        clear_output(wait=True)\n",
    "        \n",
    "        #if (xyz_i[0] < 250 or xyz_i[0] > 1750): continue\n",
    "        #if (xyz_i[1] < 250 or xyz_i[1] > 1750): continue\n",
    "        #if (xyz_i[2] < 250 or xyz_i[2] > 1750): continue\n",
    "        \n",
    "        #--- Approximate radius\n",
    "        rad_i = np.power(cnt1 * _adj_voro_vol[i], cnt2)\n",
    "        \n",
    "        #--- Scale radius by some factor\n",
    "        rad_i = rad_i / _gauss_scale\n",
    "        \n",
    "        #--- Loop until a point inside the adjacent voronoi cell is found\n",
    "        while(1):\n",
    "            \n",
    "            #--- Propose Gaussian random point\n",
    "            xr = np.random.normal(0, rad_i)\n",
    "            yr = np.random.normal(0, rad_i)\n",
    "            zr = np.random.normal(0, rad_i)\n",
    "            \n",
    "            #--- Add random perturbation to point\n",
    "            p_i = xyz_i + np.asarray([xr,yr,zr])\n",
    "            \n",
    "            #--- Check if point lies inside adjacent Voronoi cell\n",
    "            ins = is_in_adjacent_voronoi(_xyz, _tet, _adj_voro[i], p_i)\n",
    "            \n",
    "            if (ins == 1): \n",
    "                xyz_new[i,:] = p_i\n",
    "                break\n",
    "        print(\">>> \", i, \" of \", n)\n",
    "    \n",
    "    return xyz_new"
   ]
  },
  {
   "cell_type": "markdown",
   "metadata": {},
   "source": [
    "***\n",
    "***"
   ]
  },
  {
   "cell_type": "markdown",
   "metadata": {},
   "source": [
    "### Read particles from dataset and get subsample"
   ]
  },
  {
   "cell_type": "code",
   "execution_count": 12,
   "metadata": {},
   "outputs": [
    {
     "name": "stdout",
     "output_type": "stream",
     "text": [
      "(3015007,)\n"
     ]
    }
   ],
   "source": [
    "PATH = '/Users/miguel/Projects/Data/MIP-2/'\n",
    "\n",
    "pos = np.load(PATH + 'run_150_sub.npy')\n",
    "\n",
    "x = pos[:,0]\n",
    "y = pos[:,1]\n",
    "z = pos[:,2]\n",
    "\n",
    "print(z.shape)\n",
    "\n",
    "sub = ((x < 2000) * (y < 2000) * (z < 2000)) .nonzero()[0]\n",
    "x = pos[sub,0]\n",
    "y = pos[sub,1]\n",
    "z = pos[sub,2]"
   ]
  },
  {
   "cell_type": "code",
   "execution_count": 13,
   "metadata": {},
   "outputs": [
    {
     "name": "stdout",
     "output_type": "stream",
     "text": [
      "(1436, 3)\n"
     ]
    }
   ],
   "source": [
    "xyz = []\n",
    "for i in range(len(x)):\n",
    "    xyz.append((x[i], y[i], z[i]))\n",
    "xyz = np.asarray(xyz, dtype=np.float32)\n",
    "\n",
    "#--- OJOJOJOJOJOJO:  First particle was replicated with 26 (0 == 26)\n",
    "xyz[0,0] = xyz[0,0]+0.01\n",
    "\n",
    "print(xyz.shape)"
   ]
  },
  {
   "cell_type": "markdown",
   "metadata": {},
   "source": [
    "### Compute Delaunay tessellation"
   ]
  },
  {
   "cell_type": "code",
   "execution_count": 14,
   "metadata": {},
   "outputs": [],
   "source": [
    "#--- Compute Delaunay tessellation\n",
    "delau = DelaunayTri(xyz)\n",
    "tet = np.asarray(delau.vertices, dtype=np.int32)\n",
    "\n",
    "#--- Volume of adjacent Voronoi cell\n",
    "adj_voro_vol = adjacent_volumes(xyz, tet)\n",
    "\n",
    "#--- Get Adjacent Voronoi cell for all points\n",
    "adj_voro = get_adjacent_voronoi(xyz, tet)\n",
    "\n",
    "#--- Get bounding box of Voronoi cells\n",
    "adj_voro_box = get_adjacent_voronoi_stats(xyz, tet, adj_voro)"
   ]
  },
  {
   "cell_type": "code",
   "execution_count": 15,
   "metadata": {
    "scrolled": false
   },
   "outputs": [],
   "source": [
    "#--- Plot this adjacent cell\n",
    "#plot_adjacent_voronoi(xyz, tet, adj_voro[3])"
   ]
  },
  {
   "cell_type": "code",
   "execution_count": null,
   "metadata": {
    "scrolled": false
   },
   "outputs": [
    {
     "name": "stdout",
     "output_type": "stream",
     "text": [
      ">>>  614  of  1436\n"
     ]
    }
   ],
   "source": [
    "#--- Perturb particles with a uniform distribution\n",
    "#new_xyz = add_random_point_uniform(xyz, tet, adj_voro, adj_voro_box)\n",
    "\n",
    "\n",
    "#--- Perturb particles with a Gaussian distribution\n",
    "new_xyz = add_random_point_normal(xyz, tet, adj_voro, adj_voro_vol)"
   ]
  },
  {
   "cell_type": "code",
   "execution_count": null,
   "metadata": {},
   "outputs": [],
   "source": [
    "plt.figure(figsize=(8,8), dpi=120)\n",
    "plt.xticks(())\n",
    "plt.yticks(())\n",
    "\n",
    "plt.scatter(new_xyz[:,0], new_xyz[:,1], s=1)\n",
    "\n",
    "for i, p_i in enumerate(xyz):\n",
    "        plt.plot([xyz[i,0],new_xyz[i,0]], [xyz[i,1],new_xyz[i,1]])\n",
    "    \n",
    "plt.show()"
   ]
  },
  {
   "cell_type": "code",
   "execution_count": null,
   "metadata": {},
   "outputs": [],
   "source": []
  }
 ],
 "metadata": {
  "kernelspec": {
   "display_name": "Python [default]",
   "language": "python",
   "name": "python3"
  },
  "language_info": {
   "codemirror_mode": {
    "name": "ipython",
    "version": 3
   },
   "file_extension": ".py",
   "mimetype": "text/x-python",
   "name": "python",
   "nbconvert_exporter": "python",
   "pygments_lexer": "ipython3",
   "version": "3.5.6"
  }
 },
 "nbformat": 4,
 "nbformat_minor": 2
}
